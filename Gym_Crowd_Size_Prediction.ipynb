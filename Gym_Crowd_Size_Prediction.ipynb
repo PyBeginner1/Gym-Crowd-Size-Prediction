{
  "nbformat": 4,
  "nbformat_minor": 0,
  "metadata": {
    "colab": {
      "name": "Gym Crowd Size Prediction",
      "provenance": [],
      "collapsed_sections": [],
      "authorship_tag": "ABX9TyO4HBmhl2Gg0rytFVnEsSW2",
      "include_colab_link": true
    },
    "kernelspec": {
      "name": "python3",
      "display_name": "Python 3"
    },
    "language_info": {
      "name": "python"
    }
  },
  "cells": [
    {
      "cell_type": "markdown",
      "metadata": {
        "id": "view-in-github",
        "colab_type": "text"
      },
      "source": [
        "<a href=\"https://colab.research.google.com/github/PyBeginner1/Gym-Crowd-Size-Prediction/blob/main/Gym_Crowd_Size_Prediction.ipynb\" target=\"_parent\"><img src=\"https://colab.research.google.com/assets/colab-badge.svg\" alt=\"Open In Colab\"/></a>"
      ]
    },
    {
      "cell_type": "code",
      "metadata": {
        "id": "hCUz8kBCSRC0"
      },
      "source": [
        "import numpy as np\n",
        "import pandas as pd\n",
        "\n",
        "from sklearn.model_selection import train_test_split\n",
        "from sklearn.preprocessing import StandardScaler\n",
        "\n",
        "from sklearn.linear_model import Ridge\n",
        "from sklearn.neural_network import MLPRegressor\n",
        "from sklearn.ensemble import RandomForestRegressor\n",
        "\n",
        "from sklearn import metrics\n",
        "\n",
        "import warnings\n",
        "warnings.filterwarnings(action='ignore')"
      ],
      "execution_count": 113,
      "outputs": []
    },
    {
      "cell_type": "code",
      "metadata": {
        "id": "Zz7RagSaSjwQ"
      },
      "source": [
        "data = pd.read_csv('/content/data[2].csv')"
      ],
      "execution_count": 114,
      "outputs": []
    },
    {
      "cell_type": "code",
      "metadata": {
        "colab": {
          "base_uri": "https://localhost:8080/",
          "height": 417
        },
        "id": "ppJrFqgjSlr2",
        "outputId": "cda47ebf-2cc4-4e27-802d-3fa2a3f2c080"
      },
      "source": [
        "data"
      ],
      "execution_count": 115,
      "outputs": [
        {
          "output_type": "execute_result",
          "data": {
            "text/html": [
              "<div>\n",
              "<style scoped>\n",
              "    .dataframe tbody tr th:only-of-type {\n",
              "        vertical-align: middle;\n",
              "    }\n",
              "\n",
              "    .dataframe tbody tr th {\n",
              "        vertical-align: top;\n",
              "    }\n",
              "\n",
              "    .dataframe thead th {\n",
              "        text-align: right;\n",
              "    }\n",
              "</style>\n",
              "<table border=\"1\" class=\"dataframe\">\n",
              "  <thead>\n",
              "    <tr style=\"text-align: right;\">\n",
              "      <th></th>\n",
              "      <th>number_people</th>\n",
              "      <th>date</th>\n",
              "      <th>timestamp</th>\n",
              "      <th>day_of_week</th>\n",
              "      <th>is_weekend</th>\n",
              "      <th>is_holiday</th>\n",
              "      <th>temperature</th>\n",
              "      <th>is_start_of_semester</th>\n",
              "      <th>is_during_semester</th>\n",
              "      <th>month</th>\n",
              "      <th>hour</th>\n",
              "    </tr>\n",
              "  </thead>\n",
              "  <tbody>\n",
              "    <tr>\n",
              "      <th>0</th>\n",
              "      <td>37</td>\n",
              "      <td>2015-08-14 17:00:11-07:00</td>\n",
              "      <td>61211</td>\n",
              "      <td>4</td>\n",
              "      <td>0</td>\n",
              "      <td>0</td>\n",
              "      <td>71.76</td>\n",
              "      <td>0</td>\n",
              "      <td>0</td>\n",
              "      <td>8</td>\n",
              "      <td>17</td>\n",
              "    </tr>\n",
              "    <tr>\n",
              "      <th>1</th>\n",
              "      <td>45</td>\n",
              "      <td>2015-08-14 17:20:14-07:00</td>\n",
              "      <td>62414</td>\n",
              "      <td>4</td>\n",
              "      <td>0</td>\n",
              "      <td>0</td>\n",
              "      <td>71.76</td>\n",
              "      <td>0</td>\n",
              "      <td>0</td>\n",
              "      <td>8</td>\n",
              "      <td>17</td>\n",
              "    </tr>\n",
              "    <tr>\n",
              "      <th>2</th>\n",
              "      <td>40</td>\n",
              "      <td>2015-08-14 17:30:15-07:00</td>\n",
              "      <td>63015</td>\n",
              "      <td>4</td>\n",
              "      <td>0</td>\n",
              "      <td>0</td>\n",
              "      <td>71.76</td>\n",
              "      <td>0</td>\n",
              "      <td>0</td>\n",
              "      <td>8</td>\n",
              "      <td>17</td>\n",
              "    </tr>\n",
              "    <tr>\n",
              "      <th>3</th>\n",
              "      <td>44</td>\n",
              "      <td>2015-08-14 17:40:16-07:00</td>\n",
              "      <td>63616</td>\n",
              "      <td>4</td>\n",
              "      <td>0</td>\n",
              "      <td>0</td>\n",
              "      <td>71.76</td>\n",
              "      <td>0</td>\n",
              "      <td>0</td>\n",
              "      <td>8</td>\n",
              "      <td>17</td>\n",
              "    </tr>\n",
              "    <tr>\n",
              "      <th>4</th>\n",
              "      <td>45</td>\n",
              "      <td>2015-08-14 17:50:17-07:00</td>\n",
              "      <td>64217</td>\n",
              "      <td>4</td>\n",
              "      <td>0</td>\n",
              "      <td>0</td>\n",
              "      <td>71.76</td>\n",
              "      <td>0</td>\n",
              "      <td>0</td>\n",
              "      <td>8</td>\n",
              "      <td>17</td>\n",
              "    </tr>\n",
              "    <tr>\n",
              "      <th>...</th>\n",
              "      <td>...</td>\n",
              "      <td>...</td>\n",
              "      <td>...</td>\n",
              "      <td>...</td>\n",
              "      <td>...</td>\n",
              "      <td>...</td>\n",
              "      <td>...</td>\n",
              "      <td>...</td>\n",
              "      <td>...</td>\n",
              "      <td>...</td>\n",
              "      <td>...</td>\n",
              "    </tr>\n",
              "    <tr>\n",
              "      <th>62179</th>\n",
              "      <td>23</td>\n",
              "      <td>2017-03-18 18:42:28-07:00</td>\n",
              "      <td>67348</td>\n",
              "      <td>5</td>\n",
              "      <td>1</td>\n",
              "      <td>0</td>\n",
              "      <td>61.07</td>\n",
              "      <td>0</td>\n",
              "      <td>1</td>\n",
              "      <td>3</td>\n",
              "      <td>18</td>\n",
              "    </tr>\n",
              "    <tr>\n",
              "      <th>62180</th>\n",
              "      <td>21</td>\n",
              "      <td>2017-03-18 18:52:35-07:00</td>\n",
              "      <td>67955</td>\n",
              "      <td>5</td>\n",
              "      <td>1</td>\n",
              "      <td>0</td>\n",
              "      <td>61.07</td>\n",
              "      <td>0</td>\n",
              "      <td>1</td>\n",
              "      <td>3</td>\n",
              "      <td>18</td>\n",
              "    </tr>\n",
              "    <tr>\n",
              "      <th>62181</th>\n",
              "      <td>25</td>\n",
              "      <td>2017-03-18 19:02:40-07:00</td>\n",
              "      <td>68560</td>\n",
              "      <td>5</td>\n",
              "      <td>1</td>\n",
              "      <td>0</td>\n",
              "      <td>56.71</td>\n",
              "      <td>0</td>\n",
              "      <td>1</td>\n",
              "      <td>3</td>\n",
              "      <td>19</td>\n",
              "    </tr>\n",
              "    <tr>\n",
              "      <th>62182</th>\n",
              "      <td>18</td>\n",
              "      <td>2017-03-18 19:12:47-07:00</td>\n",
              "      <td>69167</td>\n",
              "      <td>5</td>\n",
              "      <td>1</td>\n",
              "      <td>0</td>\n",
              "      <td>56.71</td>\n",
              "      <td>0</td>\n",
              "      <td>1</td>\n",
              "      <td>3</td>\n",
              "      <td>19</td>\n",
              "    </tr>\n",
              "    <tr>\n",
              "      <th>62183</th>\n",
              "      <td>23</td>\n",
              "      <td>2017-03-18 19:22:51-07:00</td>\n",
              "      <td>69771</td>\n",
              "      <td>5</td>\n",
              "      <td>1</td>\n",
              "      <td>0</td>\n",
              "      <td>56.71</td>\n",
              "      <td>0</td>\n",
              "      <td>1</td>\n",
              "      <td>3</td>\n",
              "      <td>19</td>\n",
              "    </tr>\n",
              "  </tbody>\n",
              "</table>\n",
              "<p>62184 rows × 11 columns</p>\n",
              "</div>"
            ],
            "text/plain": [
              "       number_people                       date  ...  month  hour\n",
              "0                 37  2015-08-14 17:00:11-07:00  ...      8    17\n",
              "1                 45  2015-08-14 17:20:14-07:00  ...      8    17\n",
              "2                 40  2015-08-14 17:30:15-07:00  ...      8    17\n",
              "3                 44  2015-08-14 17:40:16-07:00  ...      8    17\n",
              "4                 45  2015-08-14 17:50:17-07:00  ...      8    17\n",
              "...              ...                        ...  ...    ...   ...\n",
              "62179             23  2017-03-18 18:42:28-07:00  ...      3    18\n",
              "62180             21  2017-03-18 18:52:35-07:00  ...      3    18\n",
              "62181             25  2017-03-18 19:02:40-07:00  ...      3    19\n",
              "62182             18  2017-03-18 19:12:47-07:00  ...      3    19\n",
              "62183             23  2017-03-18 19:22:51-07:00  ...      3    19\n",
              "\n",
              "[62184 rows x 11 columns]"
            ]
          },
          "metadata": {
            "tags": []
          },
          "execution_count": 115
        }
      ]
    },
    {
      "cell_type": "code",
      "metadata": {
        "colab": {
          "base_uri": "https://localhost:8080/"
        },
        "id": "UX9U1rOaSme2",
        "outputId": "4e684568-7ee8-4b42-ecfd-817904ec3596"
      },
      "source": [
        "data.isna().sum()"
      ],
      "execution_count": 116,
      "outputs": [
        {
          "output_type": "execute_result",
          "data": {
            "text/plain": [
              "number_people           0\n",
              "date                    0\n",
              "timestamp               0\n",
              "day_of_week             0\n",
              "is_weekend              0\n",
              "is_holiday              0\n",
              "temperature             0\n",
              "is_start_of_semester    0\n",
              "is_during_semester      0\n",
              "month                   0\n",
              "hour                    0\n",
              "dtype: int64"
            ]
          },
          "metadata": {
            "tags": []
          },
          "execution_count": 116
        }
      ]
    },
    {
      "cell_type": "code",
      "metadata": {
        "colab": {
          "base_uri": "https://localhost:8080/"
        },
        "id": "JQXFoeB6Tqj3",
        "outputId": "dc94057a-6102-45dc-e2e3-5906e7cfc752"
      },
      "source": [
        "data.info()"
      ],
      "execution_count": 117,
      "outputs": [
        {
          "output_type": "stream",
          "text": [
            "<class 'pandas.core.frame.DataFrame'>\n",
            "RangeIndex: 62184 entries, 0 to 62183\n",
            "Data columns (total 11 columns):\n",
            " #   Column                Non-Null Count  Dtype  \n",
            "---  ------                --------------  -----  \n",
            " 0   number_people         62184 non-null  int64  \n",
            " 1   date                  62184 non-null  object \n",
            " 2   timestamp             62184 non-null  int64  \n",
            " 3   day_of_week           62184 non-null  int64  \n",
            " 4   is_weekend            62184 non-null  int64  \n",
            " 5   is_holiday            62184 non-null  int64  \n",
            " 6   temperature           62184 non-null  float64\n",
            " 7   is_start_of_semester  62184 non-null  int64  \n",
            " 8   is_during_semester    62184 non-null  int64  \n",
            " 9   month                 62184 non-null  int64  \n",
            " 10  hour                  62184 non-null  int64  \n",
            "dtypes: float64(1), int64(9), object(1)\n",
            "memory usage: 5.2+ MB\n"
          ],
          "name": "stdout"
        }
      ]
    },
    {
      "cell_type": "code",
      "metadata": {
        "colab": {
          "base_uri": "https://localhost:8080/"
        },
        "id": "b7cP-UgGTtrF",
        "outputId": "bb69091d-0a8a-451b-b954-fc893742eb6c"
      },
      "source": [
        "pd.to_datetime(data['date'])"
      ],
      "execution_count": 118,
      "outputs": [
        {
          "output_type": "execute_result",
          "data": {
            "text/plain": [
              "0        2015-08-14 17:00:11-07:00\n",
              "1        2015-08-14 17:20:14-07:00\n",
              "2        2015-08-14 17:30:15-07:00\n",
              "3        2015-08-14 17:40:16-07:00\n",
              "4        2015-08-14 17:50:17-07:00\n",
              "                   ...            \n",
              "62179    2017-03-18 18:42:28-07:00\n",
              "62180    2017-03-18 18:52:35-07:00\n",
              "62181    2017-03-18 19:02:40-07:00\n",
              "62182    2017-03-18 19:12:47-07:00\n",
              "62183    2017-03-18 19:22:51-07:00\n",
              "Name: date, Length: 62184, dtype: object"
            ]
          },
          "metadata": {
            "tags": []
          },
          "execution_count": 118
        }
      ]
    },
    {
      "cell_type": "code",
      "metadata": {
        "colab": {
          "base_uri": "https://localhost:8080/"
        },
        "id": "_wqGgPyyV5le",
        "outputId": "bff3630a-0014-48e7-bd7d-d7557545b3bc"
      },
      "source": [
        "pd.to_datetime('2015-08-14 17:00:11-07:00').hour"
      ],
      "execution_count": 119,
      "outputs": [
        {
          "output_type": "execute_result",
          "data": {
            "text/plain": [
              "17"
            ]
          },
          "metadata": {
            "tags": []
          },
          "execution_count": 119
        }
      ]
    },
    {
      "cell_type": "code",
      "metadata": {
        "colab": {
          "base_uri": "https://localhost:8080/"
        },
        "id": "DURbmGfhWNPm",
        "outputId": "3281c128-da1a-4777-8045-525b72ca0ed1"
      },
      "source": [
        "pd.to_datetime('2015-08-14 17:00:11-07:00').minute"
      ],
      "execution_count": 120,
      "outputs": [
        {
          "output_type": "execute_result",
          "data": {
            "text/plain": [
              "0"
            ]
          },
          "metadata": {
            "tags": []
          },
          "execution_count": 120
        }
      ]
    },
    {
      "cell_type": "code",
      "metadata": {
        "colab": {
          "base_uri": "https://localhost:8080/"
        },
        "id": "ZbzshvuCXzvX",
        "outputId": "364ef439-ee00-452d-ee3c-645db5416321"
      },
      "source": [
        "pd.to_datetime('2015-08-14 17:00:11-07:00').second"
      ],
      "execution_count": 121,
      "outputs": [
        {
          "output_type": "execute_result",
          "data": {
            "text/plain": [
              "11"
            ]
          },
          "metadata": {
            "tags": []
          },
          "execution_count": 121
        }
      ]
    },
    {
      "cell_type": "markdown",
      "metadata": {
        "id": "4LMZ-K3hX5L3"
      },
      "source": [
        "#Preprocessing"
      ]
    },
    {
      "cell_type": "code",
      "metadata": {
        "id": "naVBYDxjX2h-"
      },
      "source": [
        "def preprocess_inputs(df):\n",
        "  df = df.copy()\n",
        "\n",
        "  #extract date\n",
        "  df['date'] = pd.to_datetime(df['date'])\n",
        "  df['month'] = df['date'].apply(lambda x: x.month)\n",
        "  df['day'] = df['date'].apply(lambda x: x.day)\n",
        "  df['hour'] = df['date'].apply(lambda x: x.hour)\n",
        "  df['minute'] = df['date'].apply(lambda x: x.minute)\n",
        "  df = df.drop('date', axis = 1 )\n",
        "\n",
        "  #split X & Y\n",
        "  X = df.drop('number_people', axis = 1)\n",
        "  Y = df['number_people']\n",
        "\n",
        "  #scaling\n",
        "  scaler = StandardScaler()\n",
        "  X = pd.DataFrame(scaler.fit_transform(X), columns = X.columns)\n",
        "\n",
        "  #train-test split\n",
        "  X_train, X_test, Y_train, Y_test = train_test_split(X, Y, test_size = 0.3, shuffle = True, random_state = 1)\n",
        "\n",
        "  return X_train, X_test, Y_train, Y_test"
      ],
      "execution_count": 122,
      "outputs": []
    },
    {
      "cell_type": "code",
      "metadata": {
        "id": "DDgnl5guYx8f"
      },
      "source": [
        "X_train, X_test, Y_train, Y_test = preprocess_inputs(data)"
      ],
      "execution_count": 123,
      "outputs": []
    },
    {
      "cell_type": "code",
      "metadata": {
        "colab": {
          "base_uri": "https://localhost:8080/",
          "height": 417
        },
        "id": "9QmK0FwaY07F",
        "outputId": "e437b1e0-6a21-45a7-d52a-c88839132f89"
      },
      "source": [
        "X"
      ],
      "execution_count": 124,
      "outputs": [
        {
          "output_type": "execute_result",
          "data": {
            "text/html": [
              "<div>\n",
              "<style scoped>\n",
              "    .dataframe tbody tr th:only-of-type {\n",
              "        vertical-align: middle;\n",
              "    }\n",
              "\n",
              "    .dataframe tbody tr th {\n",
              "        vertical-align: top;\n",
              "    }\n",
              "\n",
              "    .dataframe thead th {\n",
              "        text-align: right;\n",
              "    }\n",
              "</style>\n",
              "<table border=\"1\" class=\"dataframe\">\n",
              "  <thead>\n",
              "    <tr style=\"text-align: right;\">\n",
              "      <th></th>\n",
              "      <th>timestamp</th>\n",
              "      <th>day_of_week</th>\n",
              "      <th>is_weekend</th>\n",
              "      <th>is_holiday</th>\n",
              "      <th>temperature</th>\n",
              "      <th>is_start_of_semester</th>\n",
              "      <th>is_during_semester</th>\n",
              "      <th>month</th>\n",
              "      <th>hour</th>\n",
              "      <th>day</th>\n",
              "      <th>minute</th>\n",
              "    </tr>\n",
              "  </thead>\n",
              "  <tbody>\n",
              "    <tr>\n",
              "      <th>0</th>\n",
              "      <td>0.636550</td>\n",
              "      <td>0.509561</td>\n",
              "      <td>-0.628051</td>\n",
              "      <td>-0.05079</td>\n",
              "      <td>2.090274</td>\n",
              "      <td>-0.292535</td>\n",
              "      <td>-1.393938</td>\n",
              "      <td>0.162604</td>\n",
              "      <td>0.709116</td>\n",
              "      <td>-0.214711</td>\n",
              "      <td>-1.659141</td>\n",
              "    </tr>\n",
              "    <tr>\n",
              "      <th>1</th>\n",
              "      <td>0.686238</td>\n",
              "      <td>0.509561</td>\n",
              "      <td>-0.628051</td>\n",
              "      <td>-0.05079</td>\n",
              "      <td>2.090274</td>\n",
              "      <td>-0.292535</td>\n",
              "      <td>-1.393938</td>\n",
              "      <td>0.162604</td>\n",
              "      <td>0.709116</td>\n",
              "      <td>-0.214711</td>\n",
              "      <td>-0.504656</td>\n",
              "    </tr>\n",
              "    <tr>\n",
              "      <th>2</th>\n",
              "      <td>0.711061</td>\n",
              "      <td>0.509561</td>\n",
              "      <td>-0.628051</td>\n",
              "      <td>-0.05079</td>\n",
              "      <td>2.090274</td>\n",
              "      <td>-0.292535</td>\n",
              "      <td>-1.393938</td>\n",
              "      <td>0.162604</td>\n",
              "      <td>0.709116</td>\n",
              "      <td>-0.214711</td>\n",
              "      <td>0.072586</td>\n",
              "    </tr>\n",
              "    <tr>\n",
              "      <th>3</th>\n",
              "      <td>0.735885</td>\n",
              "      <td>0.509561</td>\n",
              "      <td>-0.628051</td>\n",
              "      <td>-0.05079</td>\n",
              "      <td>2.090274</td>\n",
              "      <td>-0.292535</td>\n",
              "      <td>-1.393938</td>\n",
              "      <td>0.162604</td>\n",
              "      <td>0.709116</td>\n",
              "      <td>-0.214711</td>\n",
              "      <td>0.649828</td>\n",
              "    </tr>\n",
              "    <tr>\n",
              "      <th>4</th>\n",
              "      <td>0.760708</td>\n",
              "      <td>0.509561</td>\n",
              "      <td>-0.628051</td>\n",
              "      <td>-0.05079</td>\n",
              "      <td>2.090274</td>\n",
              "      <td>-0.292535</td>\n",
              "      <td>-1.393938</td>\n",
              "      <td>0.162604</td>\n",
              "      <td>0.709116</td>\n",
              "      <td>-0.214711</td>\n",
              "      <td>1.227071</td>\n",
              "    </tr>\n",
              "    <tr>\n",
              "      <th>...</th>\n",
              "      <td>...</td>\n",
              "      <td>...</td>\n",
              "      <td>...</td>\n",
              "      <td>...</td>\n",
              "      <td>...</td>\n",
              "      <td>...</td>\n",
              "      <td>...</td>\n",
              "      <td>...</td>\n",
              "      <td>...</td>\n",
              "      <td>...</td>\n",
              "      <td>...</td>\n",
              "    </tr>\n",
              "    <tr>\n",
              "      <th>62179</th>\n",
              "      <td>0.890029</td>\n",
              "      <td>1.010360</td>\n",
              "      <td>1.592228</td>\n",
              "      <td>-0.05079</td>\n",
              "      <td>0.397840</td>\n",
              "      <td>-0.292535</td>\n",
              "      <td>0.717392</td>\n",
              "      <td>-1.288758</td>\n",
              "      <td>0.857979</td>\n",
              "      <td>0.239251</td>\n",
              "      <td>0.765277</td>\n",
              "    </tr>\n",
              "    <tr>\n",
              "      <th>62180</th>\n",
              "      <td>0.915100</td>\n",
              "      <td>1.010360</td>\n",
              "      <td>1.592228</td>\n",
              "      <td>-0.05079</td>\n",
              "      <td>0.397840</td>\n",
              "      <td>-0.292535</td>\n",
              "      <td>0.717392</td>\n",
              "      <td>-1.288758</td>\n",
              "      <td>0.857979</td>\n",
              "      <td>0.239251</td>\n",
              "      <td>1.342519</td>\n",
              "    </tr>\n",
              "    <tr>\n",
              "      <th>62181</th>\n",
              "      <td>0.940089</td>\n",
              "      <td>1.010360</td>\n",
              "      <td>1.592228</td>\n",
              "      <td>-0.05079</td>\n",
              "      <td>-0.292433</td>\n",
              "      <td>-0.292535</td>\n",
              "      <td>0.717392</td>\n",
              "      <td>-1.288758</td>\n",
              "      <td>1.006842</td>\n",
              "      <td>0.239251</td>\n",
              "      <td>-1.543692</td>\n",
              "    </tr>\n",
              "    <tr>\n",
              "      <th>62182</th>\n",
              "      <td>0.965160</td>\n",
              "      <td>1.010360</td>\n",
              "      <td>1.592228</td>\n",
              "      <td>-0.05079</td>\n",
              "      <td>-0.292433</td>\n",
              "      <td>-0.292535</td>\n",
              "      <td>0.717392</td>\n",
              "      <td>-1.288758</td>\n",
              "      <td>1.006842</td>\n",
              "      <td>0.239251</td>\n",
              "      <td>-0.966450</td>\n",
              "    </tr>\n",
              "    <tr>\n",
              "      <th>62183</th>\n",
              "      <td>0.990107</td>\n",
              "      <td>1.010360</td>\n",
              "      <td>1.592228</td>\n",
              "      <td>-0.05079</td>\n",
              "      <td>-0.292433</td>\n",
              "      <td>-0.292535</td>\n",
              "      <td>0.717392</td>\n",
              "      <td>-1.288758</td>\n",
              "      <td>1.006842</td>\n",
              "      <td>0.239251</td>\n",
              "      <td>-0.389208</td>\n",
              "    </tr>\n",
              "  </tbody>\n",
              "</table>\n",
              "<p>62184 rows × 11 columns</p>\n",
              "</div>"
            ],
            "text/plain": [
              "       timestamp  day_of_week  is_weekend  ...      hour       day    minute\n",
              "0       0.636550     0.509561   -0.628051  ...  0.709116 -0.214711 -1.659141\n",
              "1       0.686238     0.509561   -0.628051  ...  0.709116 -0.214711 -0.504656\n",
              "2       0.711061     0.509561   -0.628051  ...  0.709116 -0.214711  0.072586\n",
              "3       0.735885     0.509561   -0.628051  ...  0.709116 -0.214711  0.649828\n",
              "4       0.760708     0.509561   -0.628051  ...  0.709116 -0.214711  1.227071\n",
              "...          ...          ...         ...  ...       ...       ...       ...\n",
              "62179   0.890029     1.010360    1.592228  ...  0.857979  0.239251  0.765277\n",
              "62180   0.915100     1.010360    1.592228  ...  0.857979  0.239251  1.342519\n",
              "62181   0.940089     1.010360    1.592228  ...  1.006842  0.239251 -1.543692\n",
              "62182   0.965160     1.010360    1.592228  ...  1.006842  0.239251 -0.966450\n",
              "62183   0.990107     1.010360    1.592228  ...  1.006842  0.239251 -0.389208\n",
              "\n",
              "[62184 rows x 11 columns]"
            ]
          },
          "metadata": {
            "tags": []
          },
          "execution_count": 124
        }
      ]
    },
    {
      "cell_type": "code",
      "metadata": {
        "colab": {
          "base_uri": "https://localhost:8080/"
        },
        "id": "rvgvoihOY1XW",
        "outputId": "45ba3bd0-ba4b-4070-badc-d7c09a41238d"
      },
      "source": [
        "Y"
      ],
      "execution_count": 125,
      "outputs": [
        {
          "output_type": "execute_result",
          "data": {
            "text/plain": [
              "0        37\n",
              "1        45\n",
              "2        40\n",
              "3        44\n",
              "4        45\n",
              "         ..\n",
              "62179    23\n",
              "62180    21\n",
              "62181    25\n",
              "62182    18\n",
              "62183    23\n",
              "Name: number_people, Length: 62184, dtype: int64"
            ]
          },
          "metadata": {
            "tags": []
          },
          "execution_count": 125
        }
      ]
    },
    {
      "cell_type": "code",
      "metadata": {
        "colab": {
          "base_uri": "https://localhost:8080/"
        },
        "id": "tkwXRhOna97-",
        "outputId": "5882d880-d03b-4ea3-ffb1-918670f9c194"
      },
      "source": [
        "print(X.shape, X_train.shape, X_test.shape)"
      ],
      "execution_count": 126,
      "outputs": [
        {
          "output_type": "stream",
          "text": [
            "(62184, 11) (43528, 11) (18656, 11)\n"
          ],
          "name": "stdout"
        }
      ]
    },
    {
      "cell_type": "markdown",
      "metadata": {
        "id": "d2FebdHqb-I2"
      },
      "source": [
        "#Model"
      ]
    },
    {
      "cell_type": "code",
      "metadata": {
        "colab": {
          "base_uri": "https://localhost:8080/"
        },
        "id": "h4wu_vuLb41u",
        "outputId": "9549dc1f-871c-4fbc-d8bf-baa677de05d1"
      },
      "source": [
        "models = {\n",
        "    'Linear Regression Ridge': Ridge(),\n",
        "    'Neural Network' : MLPRegressor(),\n",
        "    'Random Forest' : RandomForestRegressor()\n",
        "}\n",
        "\n",
        "for name, model in models.items():\n",
        "  model.fit(X_train, Y_train)\n",
        "  print(name + ' trained!')"
      ],
      "execution_count": 127,
      "outputs": [
        {
          "output_type": "stream",
          "text": [
            "Linear Regression Ridge trained!\n",
            "Neural Network trained!\n",
            "Random Forest trained!\n"
          ],
          "name": "stdout"
        }
      ]
    },
    {
      "cell_type": "code",
      "metadata": {
        "id": "qS1oDsxvdot1"
      },
      "source": [
        " from sklearn.metrics import r2_score"
      ],
      "execution_count": 128,
      "outputs": []
    },
    {
      "cell_type": "code",
      "metadata": {
        "colab": {
          "base_uri": "https://localhost:8080/"
        },
        "id": "uGxTK7MYcZr3",
        "outputId": "7f527b67-f53c-496d-c41c-ad6e6258eb27"
      },
      "source": [
        "for name, model in models.items():\n",
        "  y_pred = model.predict(X_test)\n",
        "  score = r2_score(Y_test, y_pred)\n",
        "  print(name + ' R2 score is:{:.2f}'.format(score))"
      ],
      "execution_count": 129,
      "outputs": [
        {
          "output_type": "stream",
          "text": [
            "Linear Regression Ridge R2 score is:0.51\n",
            "Neural Network R2 score is:0.73\n",
            "Random Forest R2 score is:0.91\n"
          ],
          "name": "stdout"
        }
      ]
    },
    {
      "cell_type": "code",
      "metadata": {
        "colab": {
          "base_uri": "https://localhost:8080/"
        },
        "id": "g3tuXfI_dxut",
        "outputId": "4d678525-f01a-42b0-e05a-27e53ba58d25"
      },
      "source": [
        "def get_rmse(y_test, y_pred):\n",
        "    rmse = np.sqrt(np.mean((y_test - y_pred)**2))\n",
        "    return rmse\n",
        "\n",
        "for name, model in models.items():\n",
        "    y_pred = model.predict(X_test)\n",
        "    rmse = get_rmse(Y_test, y_pred)\n",
        "    print(name + \" RMSE: {:.2f}\".format(rmse))"
      ],
      "execution_count": 130,
      "outputs": [
        {
          "output_type": "stream",
          "text": [
            "Linear Regression Ridge RMSE: 16.04\n",
            "Neural Network RMSE: 11.95\n",
            "Random Forest RMSE: 6.65\n"
          ],
          "name": "stdout"
        }
      ]
    },
    {
      "cell_type": "code",
      "metadata": {
        "colab": {
          "base_uri": "https://localhost:8080/"
        },
        "id": "pd_-SXXhff81",
        "outputId": "13b79056-0f0d-4b0b-a855-a8b2890e15a3"
      },
      "source": [
        "#taking data with val result 37\n",
        "input_data = (0.636550,\t0.509561,\t-0.628051\t,-0.05079\t,2.090274,\t-0.292535,\t-1.393938,\t0.162604,\t0.709116,\t-0.214711,\t-1.659141)\n",
        "\n",
        "#numpy\n",
        "input_data_array1 = np.asarray(input_data)\n",
        "\n",
        "#reshape\n",
        "input_data_reshape1 = input_data_array1.reshape(1, -1)\n",
        "\n",
        "prediction1 = model.predict(input_data_reshape1)\n",
        "prediction1"
      ],
      "execution_count": 131,
      "outputs": [
        {
          "output_type": "execute_result",
          "data": {
            "text/plain": [
              "array([40.01])"
            ]
          },
          "metadata": {
            "tags": []
          },
          "execution_count": 131
        }
      ]
    },
    {
      "cell_type": "code",
      "metadata": {
        "colab": {
          "base_uri": "https://localhost:8080/"
        },
        "id": "qO1ceqHxgzne",
        "outputId": "2f8d77e1-71aa-416e-9ebf-bc45b9fddadd"
      },
      "source": [
        "#for 45\n",
        "input_data1 = (0.686238,\t0.509561,\t-0.628051,\t-0.05079,\t2.090274,\t-0.292535,\t-1.393938\t,0.162604,\t0.709116,\t-0.214711,\t-0.504656)\n",
        "\n",
        "#numpy\n",
        "input_data_array2 = np.asarray(input_data1)\n",
        "\n",
        "#reshape\n",
        "input_data_reshape2 = input_data_array2.reshape(1, -1)\n",
        "\n",
        "prediction2 = model.predict(input_data_reshape2)\n",
        "prediction2"
      ],
      "execution_count": 134,
      "outputs": [
        {
          "output_type": "execute_result",
          "data": {
            "text/plain": [
              "array([43.54])"
            ]
          },
          "metadata": {
            "tags": []
          },
          "execution_count": 134
        }
      ]
    }
  ]
}